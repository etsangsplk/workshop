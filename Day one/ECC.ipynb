{
 "cells": [
  {
   "cell_type": "markdown",
   "metadata": {},
   "source": [
    "# Signatures "
   ]
  },
  {
   "cell_type": "code",
   "execution_count": 6,
   "metadata": {},
   "outputs": [],
   "source": [
    "import ecdsa"
   ]
  },
  {
   "cell_type": "markdown",
   "metadata": {},
   "source": [
    "Bitcoin (and Ethereum) uses a method of cryptography called key cryptography, more specifically, they're using the Eliptic Curve Cryptography or ECC.  \n",
    "Private keys. A random number. Seriously. That's it.\n",
    "However, not just any random number will do the trick.\n",
    "We want the number to be long enough, yet usable. \n",
    "The SECG (Standards for Efficient Cryptography Group) published the SECP256k1.\n",
    "According to them, a random number that meets these critireas is any random number between 01 and E9873D79C6D87DC0FB6A5778633389F4453213303DA61F20BD67FC233AA33262"
   ]
  },
  {
   "cell_type": "code",
   "execution_count": 7,
   "metadata": {},
   "outputs": [],
   "source": [
    "random_number = bytes.fromhex(\"D9EB2D0AEF02246253F6B14765458B9BED04557B6880C4A14DA8B8A615ADBF24\")"
   ]
  },
  {
   "cell_type": "markdown",
   "metadata": {},
   "source": [
    "## Number to Public-private key\n",
    "Transforming the random_number into a key pair."
   ]
  },
  {
   "cell_type": "code",
   "execution_count": 8,
   "metadata": {},
   "outputs": [],
   "source": [
    "signing_key = ecdsa.SigningKey.from_string(random_number, curve = ecdsa.SECP256k1) # Don't forget to specify the curve\n",
    "\n",
    "verifying_key = signing_key.get_verifying_key()"
   ]
  },
  {
   "cell_type": "markdown",
   "metadata": {},
   "source": [
    "Now lets create the signaute"
   ]
  },
  {
   "cell_type": "code",
   "execution_count": 9,
   "metadata": {},
   "outputs": [
    {
     "name": "stdout",
     "output_type": "stream",
     "text": [
      "4ed97c8b49bab5cb5974a2766b0380fd4459335d78b7dcda5298bd102b66b3ca1add81cad40e6e39089a3c46973b7f76755fab9dbf803a104b9185b612c78953\n"
     ]
    }
   ],
   "source": [
    "message = \"messesge\".encode(\"utf-8\")\n",
    "\n",
    "signature = signing_key.sign(message)\n",
    "\n",
    "print(signature.hex())"
   ]
  },
  {
   "cell_type": "markdown",
   "metadata": {},
   "source": [
    "### Exersice:\n",
    "You receievd a siged message (signaute + plain text).\n",
    "\n",
    "signature = \"dd70444ee49c9b447be2c624554ca30bd0c318cc01a32ac8b449dccb3ea0e12ce30828e35333e6f5b0e7a219615e23f71979b8ade601ed17d3685d1d8788b857\"\n",
    "\n",
    "plainText = \"message\"\n",
    "\n",
    "Out of the following 3 private keys, which one sighed the message? \n",
    "\n",
    "    (1) 09C5F2B57912AE6FA1F42D57CD8B9052235E2DF7CAECA415AFB4194DA5A43B6D\n",
    "    (2) D9EB2D0AEF02246253F6B14765458B9BED04557B6880C4A14DA8B8A615ADBF24 \n",
    "    (3) 1EE727E236A356477DBA6502E304EDA2EDA7958F44D09B318ACDF3DFA0B3F6C9 \n",
    "    \n",
    "For your convenience: \n",
    "\n",
    "[\"09C5F2B57912AE6FA1F42D57CD8B9052235E2DF7CAECA415AFB4194DA5A43B6D\", \"D9EB2D0AEF02246253F6B14765458B9BED04557B6880C4A14DA8B8A615ADBF24\", \"1EE727E236A356477DBA6502E304EDA2EDA7958F44D09B318ACDF3DFA0B3F6C9\"]"
   ]
  },
  {
   "cell_type": "code",
   "execution_count": 11,
   "metadata": {},
   "outputs": [],
   "source": [
    "signature = bytes.fromhex(\"4ed97c8b49bab5cb5974a2766b0380fd4459335d78b7dcda5298bd102b66b3ca1add81cad40e6e39089a3c46973b7f76755fab9dbf803a104b9185b612c78953\")\n",
    "\n",
    "message = \"messesge\".encode(\"utf-8\")\n",
    "random_number = bytes.fromhex(\"D9EB2D0AEF02246253F6B14765458B9BED04557B6880C4A14DA8B8A615ADBF24\")\n",
    "signing_key = ecdsa.SigningKey.from_string(random_number, curve = ecdsa.SECP256k1) # Don't forget to specify the curve\n",
    "\n",
    "verifying_key = signing_key.get_verifying_key()\n",
    "\n",
    "assert verifying_key.verify(signature, message)"
   ]
  },
  {
   "cell_type": "markdown",
   "metadata": {},
   "source": [
    "Resources:\n",
    "\n",
    "https://www.youtube.com/watch?v=5H0wtyP6hbQ&t=658s\n",
    "\n",
    "http://royalforkblog.github.io/2014/09/04/ecc/\n",
    "\n",
    "https://bitcoin.stackexchange.com/questions/21907/what-does-the-curve-used-in-bitcoin-secp256k1-look-like\n",
    "\n",
    "https://cdn.rawgit.com/andreacorbellini/ecc/920b29a/interactive/modk-mul.html\n",
    "\n",
    "https://www.desmos.com/calculator/ialhd71we3"
   ]
  }
 ],
 "metadata": {
  "kernelspec": {
   "display_name": "Python 3",
   "language": "python",
   "name": "python3"
  },
  "language_info": {
   "codemirror_mode": {
    "name": "ipython",
    "version": 3
   },
   "file_extension": ".py",
   "mimetype": "text/x-python",
   "name": "python",
   "nbconvert_exporter": "python",
   "pygments_lexer": "ipython3",
   "version": "3.6.2"
  }
 },
 "nbformat": 4,
 "nbformat_minor": 2
}
