{
 "cells": [
  {
   "cell_type": "markdown",
   "metadata": {},
   "source": [
    "# Signatures "
   ]
  },
  {
   "cell_type": "code",
   "execution_count": 3,
   "metadata": {},
   "outputs": [],
   "source": [
    "import ecdsa"
   ]
  },
  {
   "cell_type": "markdown",
   "metadata": {},
   "source": [
    "Bitcoin (and Ethereum) uses a method of cryptography called key cryptography, more specifically, they're using the Eliptic Curve Cryptography or ECC.  \n",
    "Private keys. A random number. Seriously. That's it.\n",
    "However, not just any random number will do the trick.\n",
    "We want the number to be long enough, yet usable. \n",
    "The SECG (Standards for Efficient Cryptography Group) published the SECP256k1.\n",
    "According to them, a random number that meets these critireas is any random number between 01 and E9873D79C6D87DC0FB6A5778633389F4453213303DA61F20BD67FC233AA33262"
   ]
  },
  {
   "cell_type": "code",
   "execution_count": 4,
   "metadata": {},
   "outputs": [],
   "source": [
    "random_number = bytes.fromhex(\"C512256C4BC032D4B4276F0BE2259BD3C3C2A90D42EEF0E2A62990435E139FEC\")"
   ]
  },
  {
   "cell_type": "markdown",
   "metadata": {},
   "source": [
    "## Number to Public-private key\n",
    "Transforming the random_number into a key pair."
   ]
  },
  {
   "cell_type": "code",
   "execution_count": 5,
   "metadata": {},
   "outputs": [],
   "source": [
    "signing_key = ecdsa.SigningKey.from_string(random_number, curve = ecdsa.SECP256k1) # Don't forget to specify the curve\n",
    "\n",
    "verifying_key = signing_key.get_verifying_key()"
   ]
  },
  {
   "cell_type": "markdown",
   "metadata": {},
   "source": [
    "Now lets create the signaute"
   ]
  },
  {
   "cell_type": "code",
   "execution_count": 6,
   "metadata": {},
   "outputs": [
    {
     "name": "stdout",
     "output_type": "stream",
     "text": [
      "5389eac32ea261d048b2df64c860873dd915a6f950c386315c06d16f47fbb2fddf1890fc09e92344272941e6bb2faba273eb25fc2550f423f8346ff8295f5984\n"
     ]
    }
   ],
   "source": [
    "message = \"messesge\".encode(\"utf-8\")\n",
    "\n",
    "signature = signing_key.sign(message)\n",
    "\n",
    "print(signature.hex())"
   ]
  },
  {
   "cell_type": "markdown",
   "metadata": {},
   "source": [
    "### Exersice:\n",
    "You receievd a siged message (signaute + plain text).\n",
    "\n",
    "\n",
    "Out of the following 3 private keys, which one sighed the message? \n",
    "\n",
    "    (1) 09C5F2B57912AE6FA1F42D57CD8B9052235E2DF7CAECA415AFB4194DA5A43B6D\n",
    "    (2) D9EB2D0AEF02246253F6B14765458B9BED04557B6880C4A14DA8B8A615ADBF24 \n",
    "    (3) 1EE727E236A356477DBA6502E304EDA2EDA7958F44D09B318ACDF3DFA0B3F6C9 \n",
    "    \n",
    "For your convenience: \n",
    "[\"09C5F2B57912AE6FA1F42D57CD8B9052235E2DF7CAECA415AFB4194DA5A43B6D\", \"D9EB2D0AEF02246253F6B14765458B9BED04557B6880C4A14DA8B8A615ADBF24\", \"1EE727E236A356477DBA6502E304EDA2EDA7958F44D09B318ACDF3DFA0B3F6C9\"]"
   ]
  },
  {
   "cell_type": "code",
   "execution_count": 7,
   "metadata": {},
   "outputs": [
    {
     "ename": "AssertionError",
     "evalue": "(2, 64)",
     "output_type": "error",
     "traceback": [
      "\u001b[0;31m---------------------------------------------------------------------------\u001b[0m",
      "\u001b[0;31mAssertionError\u001b[0m                            Traceback (most recent call last)",
      "\u001b[0;32m<ipython-input-7-e2cb026087a2>\u001b[0m in \u001b[0;36m<module>\u001b[0;34m()\u001b[0m\n\u001b[1;32m      7\u001b[0m \u001b[0mverifying_key\u001b[0m \u001b[0;34m=\u001b[0m \u001b[0msigning_key\u001b[0m\u001b[0;34m.\u001b[0m\u001b[0mget_verifying_key\u001b[0m\u001b[0;34m(\u001b[0m\u001b[0;34m)\u001b[0m\u001b[0;34m\u001b[0m\u001b[0m\n\u001b[1;32m      8\u001b[0m \u001b[0;34m\u001b[0m\u001b[0m\n\u001b[0;32m----> 9\u001b[0;31m \u001b[0;32massert\u001b[0m \u001b[0mverifying_key\u001b[0m\u001b[0;34m.\u001b[0m\u001b[0mverify\u001b[0m\u001b[0;34m(\u001b[0m\u001b[0msignature\u001b[0m\u001b[0;34m,\u001b[0m \u001b[0mmessage\u001b[0m\u001b[0;34m)\u001b[0m\u001b[0;34m\u001b[0m\u001b[0m\n\u001b[0m",
      "\u001b[0;32m~/.local/share/virtualenvs/workshop-aLgEBYqx/lib/python3.6/site-packages/ecdsa/keys.py\u001b[0m in \u001b[0;36mverify\u001b[0;34m(self, signature, data, hashfunc, sigdecode)\u001b[0m\n\u001b[1;32m     99\u001b[0m         \u001b[0mhashfunc\u001b[0m \u001b[0;34m=\u001b[0m \u001b[0mhashfunc\u001b[0m \u001b[0;32mor\u001b[0m \u001b[0mself\u001b[0m\u001b[0;34m.\u001b[0m\u001b[0mdefault_hashfunc\u001b[0m\u001b[0;34m\u001b[0m\u001b[0m\n\u001b[1;32m    100\u001b[0m         \u001b[0mdigest\u001b[0m \u001b[0;34m=\u001b[0m \u001b[0mhashfunc\u001b[0m\u001b[0;34m(\u001b[0m\u001b[0mdata\u001b[0m\u001b[0;34m)\u001b[0m\u001b[0;34m.\u001b[0m\u001b[0mdigest\u001b[0m\u001b[0;34m(\u001b[0m\u001b[0;34m)\u001b[0m\u001b[0;34m\u001b[0m\u001b[0m\n\u001b[0;32m--> 101\u001b[0;31m         \u001b[0;32mreturn\u001b[0m \u001b[0mself\u001b[0m\u001b[0;34m.\u001b[0m\u001b[0mverify_digest\u001b[0m\u001b[0;34m(\u001b[0m\u001b[0msignature\u001b[0m\u001b[0;34m,\u001b[0m \u001b[0mdigest\u001b[0m\u001b[0;34m,\u001b[0m \u001b[0msigdecode\u001b[0m\u001b[0;34m)\u001b[0m\u001b[0;34m\u001b[0m\u001b[0m\n\u001b[0m\u001b[1;32m    102\u001b[0m \u001b[0;34m\u001b[0m\u001b[0m\n\u001b[1;32m    103\u001b[0m     \u001b[0;32mdef\u001b[0m \u001b[0mverify_digest\u001b[0m\u001b[0;34m(\u001b[0m\u001b[0mself\u001b[0m\u001b[0;34m,\u001b[0m \u001b[0msignature\u001b[0m\u001b[0;34m,\u001b[0m \u001b[0mdigest\u001b[0m\u001b[0;34m,\u001b[0m \u001b[0msigdecode\u001b[0m\u001b[0;34m=\u001b[0m\u001b[0msigdecode_string\u001b[0m\u001b[0;34m)\u001b[0m\u001b[0;34m:\u001b[0m\u001b[0;34m\u001b[0m\u001b[0m\n",
      "\u001b[0;32m~/.local/share/virtualenvs/workshop-aLgEBYqx/lib/python3.6/site-packages/ecdsa/keys.py\u001b[0m in \u001b[0;36mverify_digest\u001b[0;34m(self, signature, digest, sigdecode)\u001b[0m\n\u001b[1;32m    107\u001b[0m                                                            8*len(digest)))\n\u001b[1;32m    108\u001b[0m         \u001b[0mnumber\u001b[0m \u001b[0;34m=\u001b[0m \u001b[0mstring_to_number\u001b[0m\u001b[0;34m(\u001b[0m\u001b[0mdigest\u001b[0m\u001b[0;34m)\u001b[0m\u001b[0;34m\u001b[0m\u001b[0m\n\u001b[0;32m--> 109\u001b[0;31m         \u001b[0mr\u001b[0m\u001b[0;34m,\u001b[0m \u001b[0ms\u001b[0m \u001b[0;34m=\u001b[0m \u001b[0msigdecode\u001b[0m\u001b[0;34m(\u001b[0m\u001b[0msignature\u001b[0m\u001b[0;34m,\u001b[0m \u001b[0mself\u001b[0m\u001b[0;34m.\u001b[0m\u001b[0mpubkey\u001b[0m\u001b[0;34m.\u001b[0m\u001b[0morder\u001b[0m\u001b[0;34m)\u001b[0m\u001b[0;34m\u001b[0m\u001b[0m\n\u001b[0m\u001b[1;32m    110\u001b[0m         \u001b[0msig\u001b[0m \u001b[0;34m=\u001b[0m \u001b[0mecdsa\u001b[0m\u001b[0;34m.\u001b[0m\u001b[0mSignature\u001b[0m\u001b[0;34m(\u001b[0m\u001b[0mr\u001b[0m\u001b[0;34m,\u001b[0m \u001b[0ms\u001b[0m\u001b[0;34m)\u001b[0m\u001b[0;34m\u001b[0m\u001b[0m\n\u001b[1;32m    111\u001b[0m         \u001b[0;32mif\u001b[0m \u001b[0mself\u001b[0m\u001b[0;34m.\u001b[0m\u001b[0mpubkey\u001b[0m\u001b[0;34m.\u001b[0m\u001b[0mverifies\u001b[0m\u001b[0;34m(\u001b[0m\u001b[0mnumber\u001b[0m\u001b[0;34m,\u001b[0m \u001b[0msig\u001b[0m\u001b[0;34m)\u001b[0m\u001b[0;34m:\u001b[0m\u001b[0;34m\u001b[0m\u001b[0m\n",
      "\u001b[0;32m~/.local/share/virtualenvs/workshop-aLgEBYqx/lib/python3.6/site-packages/ecdsa/util.py\u001b[0m in \u001b[0;36msigdecode_string\u001b[0;34m(signature, order)\u001b[0m\n\u001b[1;32m    219\u001b[0m \u001b[0;32mdef\u001b[0m \u001b[0msigdecode_string\u001b[0m\u001b[0;34m(\u001b[0m\u001b[0msignature\u001b[0m\u001b[0;34m,\u001b[0m \u001b[0morder\u001b[0m\u001b[0;34m)\u001b[0m\u001b[0;34m:\u001b[0m\u001b[0;34m\u001b[0m\u001b[0m\n\u001b[1;32m    220\u001b[0m     \u001b[0ml\u001b[0m \u001b[0;34m=\u001b[0m \u001b[0morderlen\u001b[0m\u001b[0;34m(\u001b[0m\u001b[0morder\u001b[0m\u001b[0;34m)\u001b[0m\u001b[0;34m\u001b[0m\u001b[0m\n\u001b[0;32m--> 221\u001b[0;31m     \u001b[0;32massert\u001b[0m \u001b[0mlen\u001b[0m\u001b[0;34m(\u001b[0m\u001b[0msignature\u001b[0m\u001b[0;34m)\u001b[0m \u001b[0;34m==\u001b[0m \u001b[0;36m2\u001b[0m\u001b[0;34m*\u001b[0m\u001b[0ml\u001b[0m\u001b[0;34m,\u001b[0m \u001b[0;34m(\u001b[0m\u001b[0mlen\u001b[0m\u001b[0;34m(\u001b[0m\u001b[0msignature\u001b[0m\u001b[0;34m)\u001b[0m\u001b[0;34m,\u001b[0m \u001b[0;36m2\u001b[0m\u001b[0;34m*\u001b[0m\u001b[0ml\u001b[0m\u001b[0;34m)\u001b[0m\u001b[0;34m\u001b[0m\u001b[0m\n\u001b[0m\u001b[1;32m    222\u001b[0m     \u001b[0mr\u001b[0m \u001b[0;34m=\u001b[0m \u001b[0mstring_to_number_fixedlen\u001b[0m\u001b[0;34m(\u001b[0m\u001b[0msignature\u001b[0m\u001b[0;34m[\u001b[0m\u001b[0;34m:\u001b[0m\u001b[0ml\u001b[0m\u001b[0;34m]\u001b[0m\u001b[0;34m,\u001b[0m \u001b[0morder\u001b[0m\u001b[0;34m)\u001b[0m\u001b[0;34m\u001b[0m\u001b[0m\n\u001b[1;32m    223\u001b[0m     \u001b[0ms\u001b[0m \u001b[0;34m=\u001b[0m \u001b[0mstring_to_number_fixedlen\u001b[0m\u001b[0;34m(\u001b[0m\u001b[0msignature\u001b[0m\u001b[0;34m[\u001b[0m\u001b[0ml\u001b[0m\u001b[0;34m:\u001b[0m\u001b[0;34m]\u001b[0m\u001b[0;34m,\u001b[0m \u001b[0morder\u001b[0m\u001b[0;34m)\u001b[0m\u001b[0;34m\u001b[0m\u001b[0m\n",
      "\u001b[0;31mAssertionError\u001b[0m: (2, 64)"
     ]
    }
   ],
   "source": [
    "signature = bytes.fromhex(\"5389eac32ea261d048b2df64c860873dd915a6f950c386315c06d16f47fbb2fddf1890fc09e92344272941e6bb2faba273eb25fc2550f423f8346ff8295f5984\")\n",
    "\n",
    "message = \"messesge\".encode(\"utf-8\")\n",
    "random_number = bytes.fromhex(\"C512256C4BC032D4B4276F0BE2259BD3C3C2A90D42EEF0E2A62990435E139FEC\")\n",
    "signing_key = ecdsa.SigningKey.from_string(random_number, curve = ecdsa.SECP256k1) # Don't forget to specify the curve\n",
    "\n",
    "verifying_key = signing_key.get_verifying_key()\n",
    "\n",
    "assert verifying_key.verify(signature, message)"
   ]
  },
  {
   "cell_type": "markdown",
   "metadata": {},
   "source": [
    "Resources:\n",
    "\n",
    "https://www.youtube.com/watch?v=5H0wtyP6hbQ&t=658s\n",
    "\n",
    "http://royalforkblog.github.io/2014/09/04/ecc/\n",
    "\n",
    "https://bitcoin.stackexchange.com/questions/21907/what-does-the-curve-used-in-bitcoin-secp256k1-look-like\n",
    "\n",
    "https://cdn.rawgit.com/andreacorbellini/ecc/920b29a/interactive/modk-mul.html\n",
    "\n",
    "https://www.desmos.com/calculator/ialhd71we3"
   ]
  }
 ],
 "metadata": {
  "kernelspec": {
   "display_name": "Python 3",
   "language": "python",
   "name": "python3"
  },
  "language_info": {
   "codemirror_mode": {
    "name": "ipython",
    "version": 3
   },
   "file_extension": ".py",
   "mimetype": "text/x-python",
   "name": "python",
   "nbconvert_exporter": "python",
   "pygments_lexer": "ipython3",
   "version": "3.6.2"
  }
 },
 "nbformat": 4,
 "nbformat_minor": 2
}
