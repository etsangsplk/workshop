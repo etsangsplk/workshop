{
 "cells": [
  {
   "cell_type": "code",
   "execution_count": 2,
   "metadata": {},
   "outputs": [
    {
     "name": "stdout",
     "output_type": "stream",
     "text": [
      "hello world\n"
     ]
    }
   ],
   "source": [
    "# Bytestring -> Text (Need to DECIDE on text encoding).\n",
    "\n",
    "byte_string = bytes.fromhex(\"68656c6c6f20776f726c64\") # The bytestring is generated from hexadecimal code. \n",
    "text = byte_string.decode(\"ascii\")\n",
    "print(text)"
   ]
  },
  {
   "cell_type": "code",
   "execution_count": 1,
   "metadata": {},
   "outputs": [
    {
     "name": "stdout",
     "output_type": "stream",
     "text": [
      "68656c6c6f20776f726c64\n"
     ]
    }
   ],
   "source": [
    "# Text -> bytestring (We need to KNOW the text encoding).\n",
    "\n",
    "text = \"hello world\"\n",
    "byte_string = text.encode(\"ascii\")\n",
    "print(byte_string)"
   ]
  },
  {
   "cell_type": "code",
   "execution_count": 2,
   "metadata": {},
   "outputs": [
    {
     "name": "stdout",
     "output_type": "stream",
     "text": [
      "68656c6c6f20776f726c64\n"
     ]
    }
   ],
   "source": [
    "# Since we'll mostly work with hexadecimals, we shold learn how to present bytestring hex.\n",
    "\n",
    "text = \"hello world\"\n",
    "byte_string = text.encode() # Leaving the encode param empty will default in utf-8.\n",
    "hexadecimals = byte_string.hex()\n",
    "print(hexadecimals)"
   ]
  },
  {
   "cell_type": "code",
   "execution_count": 2,
   "metadata": {},
   "outputs": [
    {
     "name": "stdout",
     "output_type": "stream",
     "text": [
      "b'\\xff\\x00\\x00\\x00\\x00\\x00\\x00\\x00\\x00\\x00\\x00\\x00\\x00\\x00\\x00\\x00\\x00\\x00\\x00\\x00\\x00\\x00\\x00\\x00\\x00\\x00\\x00\\x00\\x00\\x00\\x00\\x00'\n",
      "ff00000000000000000000000000000000000000000000000000000000000000\n"
     ]
    }
   ],
   "source": [
    "# Many times we'll want to make sure that each bytestring has a known size.\n",
    "\n",
    "one_byte = bytes.fromhex(\"ff\")\n",
    "six_bytes = one_byte + 31 * bytes.fromhex(\"00\")\n",
    "print(six_bytes)\n",
    "\n",
    "hexadecimals = six_bytes.hex()\n",
    "print(hexadecimals)"
   ]
  },
  {
   "cell_type": "code",
   "execution_count": 7,
   "metadata": {},
   "outputs": [
    {
     "name": "stdout",
     "output_type": "stream",
     "text": [
      "b'\\x00\\x00\\x00\\x00\\x00\\x00\\x00\\x00\\x00\\x17'\n",
      "14167099448608935641088\n"
     ]
    }
   ],
   "source": [
    "# Working with numbers\n",
    "# int.to_bytes takes three paramaters: bytestring size (auto padding), byteorder(big/small), signed(true/false)\n",
    "# int.from_bytes(bytestring, )\n",
    "\n",
    "a = (23).to_bytes(10, byteorder=\"big\", signed=False)\n",
    "print(a)\n",
    "b = (3).to_bytes(10, byteorder=\"little\", signed=False)\n",
    "c = int.from_bytes(b, byteorder=\"big\", signed=True) # Only signed int can contain negative values\n",
    "print(c)"
   ]
  }
 ],
 "metadata": {
  "kernelspec": {
   "display_name": "Python 3",
   "language": "python",
   "name": "python3"
  },
  "language_info": {
   "codemirror_mode": {
    "name": "ipython",
    "version": 3
   },
   "file_extension": ".py",
   "mimetype": "text/x-python",
   "name": "python",
   "nbconvert_exporter": "python",
   "pygments_lexer": "ipython3",
   "version": "3.6.2"
  }
 },
 "nbformat": 4,
 "nbformat_minor": 2
}
