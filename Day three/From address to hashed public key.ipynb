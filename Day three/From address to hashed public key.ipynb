{
 "cells": [
  {
   "cell_type": "markdown",
   "metadata": {},
   "source": [
    "# From Bitcoin address to hashed public key"
   ]
  },
  {
   "cell_type": "code",
   "execution_count": 6,
   "metadata": {},
   "outputs": [
    {
     "name": "stdout",
     "output_type": "stream",
     "text": [
      "0071770ba9388363913eb3b9e93d80ce59c4461c2257b0d9d0\n"
     ]
    }
   ],
   "source": [
    "import base58\n",
    "\n",
    "bin_addr = base58.b58decode(\"1BLwy7C169eGq7HT2wYr31Nnc8jvbjHYX9\")\n",
    "print(bin_addr.hex())"
   ]
  },
  {
   "cell_type": "markdown",
   "metadata": {},
   "source": [
    "Don't forget that the first byte represents the network, and the last 4 bytes represents the checksum\n",
    "007|1770ba9388363913eb3b9e93d80ce59c4461c22|57b0d9d0\n",
    "\n",
    "network| hashed public key| checksum"
   ]
  }
 ],
 "metadata": {
  "kernelspec": {
   "display_name": "Python 3",
   "language": "python",
   "name": "python3"
  },
  "language_info": {
   "codemirror_mode": {
    "name": "ipython",
    "version": 3
   },
   "file_extension": ".py",
   "mimetype": "text/x-python",
   "name": "python",
   "nbconvert_exporter": "python",
   "pygments_lexer": "ipython3",
   "version": "3.6.2"
  }
 },
 "nbformat": 4,
 "nbformat_minor": 2
}
