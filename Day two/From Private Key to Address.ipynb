{
 "cells": [
  {
   "cell_type": "markdown",
   "metadata": {},
   "source": [
    "# From Private Key to Bitcoin Address\n",
    "\n",
    "We know what is a private key (A random number) and what a public key is (A point on a graph).\n",
    "Now we're going to see what is the connection between these two and a Bitcoin transaction."
   ]
  },
  {
   "cell_type": "markdown",
   "metadata": {},
   "source": [
    "### Step one. Generate a strong private key\n",
    "\n",
    "Don't forget, private key in nothing more than a random 256 bit (32 bytes) long.\n",
    "It's recommended not to make this number up by yourself, you can use addresses like bitaddress.org to generate a compatible random address for you."
   ]
  },
  {
   "attachments": {
    "image.png": {
     "image/png": "[encoded data removed]"
    }
   },
   "cell_type": "markdown",
   "metadata": {},
   "source": [
    "### Step two. From Private key to public key\n",
    "Public key multiplaing point G (generator point) on graph SECP256k1 by the Private key.\n",
    "\n",
    "![image.png](attachment:image.png)\n",
    "\n",
    "?Is the public key compressed?"
   ]
  },
  {
   "cell_type": "code",
   "execution_count": 64,
   "metadata": {},
   "outputs": [
    {
     "name": "stdout",
     "output_type": "stream",
     "text": [
      "0211c299278e1e1ddefa606b868ac5ad386308a94bccfdeae3d84278a5f230579b\n"
     ]
    }
   ],
   "source": [
    "import ecdsa\n",
    "\n",
    "random_number = bytes.fromhex(\"6C4B84401F6885311FBFEB151DCE1C067316FF693869BAEDBFEF4EE1D16DA115\")\n",
    "\n",
    "signing_key = ecdsa.SigningKey.from_string(random_number, curve = ecdsa.SECP256k1) # Don't forget to specify the curve\n",
    "verifying_key = signing_key.get_verifying_key()\n",
    "\n",
    "\n",
    "# The public key is uncompressed and according to the documentation it should be denoted with prefix 0x04\n",
    "public_key = bytes.fromhex(\"04\") + verifying_key.to_string()\n",
    "\n",
    "# In order to compress it we need to provide the proper 'sign' of the y cordinate.\n",
    "# If we plug the X coordinate into the known SECP256K1 we'll get two optional Y cordinate.\n",
    "\n",
    "x_cor = bytes.fromhex(verifying_key.to_string().hex())[:32] # The first 32 bytes are the x cordinate\n",
    "y_cor = bytes.fromhex(verifying_key.to_string().hex())[32:] # The last 32 bytes are the y cordinate\n",
    "if int.from_bytes(y_cor, byteorder=\"big\", signed=True) % 2 == 0: # We need to turn the y_cor into a number. \n",
    "    public_key = bytes.fromhex(\"02\" + x_cor.hex())\n",
    "else:\n",
    "    public_key = bytes.fromhex(\"03\" + x_cor.hex())\n",
    "    \n",
    "print(public_key.hex())"
   ]
  },
  {
   "cell_type": "markdown",
   "metadata": {},
   "source": [
    "### Step three. Public key to hash public key\n",
    "\n",
    "Public keys are usually hashed. This is for couple of reasons:\n",
    "1. Using the ripemd160 hashing algorithm, we can readuce the size of the key to 160 bits (20 bytes).\n",
    "2. Adding another layer of security. If in the future Eliptic Curve Cryptography will no longer suffice, you coins might still be safe because the hash of your public key cannot be reveresed back to public key."
   ]
  },
  {
   "cell_type": "code",
   "execution_count": 65,
   "metadata": {},
   "outputs": [],
   "source": [
    "import hashlib\n",
    "\n",
    "sha256_1 = hashlib.new(\"sha256\")\n",
    "sha256_1.update(public_key)\n",
    "\n",
    "ripemd160 = hashlib.new(\"ripemd160\")\n",
    "ripemd160.update(sha256_1.digest())"
   ]
  },
  {
   "cell_type": "markdown",
   "metadata": {},
   "source": [
    "### Step four. Add the network id byte\n",
    "| Decimal prefix | Hex      | Example use                                    | Leading symbol(s) | Example                                                                                                          |\n",
    "|----------------|----------|------------------------------------------------|-------------------|------------------------------------------------------------------------------------------------------------------|\n",
    "| 0              | 00       | Pubkey hash (P2PKH address)                    | 1                 | 17VZNX1SN5NtKa8UQFxwQbFeFc3iqRYhem                                                                               |\n",
    "| 5              | 05       | Script hash (P2SH address)                     | 3                 | 3EktnHQD7RiAE6uzMj2ZifT9YgRrkSgzQX                                                                               |\n",
    "| 128            | 80       | Private key (WIF, uncompressed pubkey)         | 5                 | 5Hwgr3u458GLafKBgxtssHSPqJnYoGrSzgQsPwLFhLNYskDPyyA                                                              |\n",
    "| 128            | 80       | Private key (WIF, compressed pubkey)           | K or L            | L1aW4aubDFB7yfras2S1mN3bqg9nwySY8nkoLmJebSLD5BWv3ENZ                                                             |\n",
    "| 4 136 178 30   | 0488B21E | BIP32 pubkey                                   | xpub              | xpub661MyMwAqRbcEYS8w7XLSVeEsBXy79zSzH1J8vCdxAZningWLdN3 zgtU6LBpB85b3D2yc8sfvZU521AAwdZafEz7mnzBBsz4wKY5e4cp9LB |\n",
    "| 4 136 173 228  | 0488ADE4 | BIP32 private key                              | xprv              | xprv9s21ZrQH143K24Mfq5zL5MhWK9hUhhGbd45hLXo2Pq2oqzMMo63o StZzF93Y5wvzdUayhgkkFoicQZcP3y52uPPxFnfoLZB21Teqt1VvEHx |\n",
    "| 111            | 6F       | Testnet pubkey hash                            | m or n            | mipcBbFg9gMiCh81Kj8tqqdgoZub1ZJRfn                                                                               |\n",
    "| 196            | C4       | Testnet script hash                            | 2                 | 2MzQwSSnBHWHqSAqtTVQ6v47XtaisrJa1Vc                                                                              |\n",
    "| 239            | EF       | Testnet Private key (WIF, uncompressed pubkey) | 9                 | 92Pg46rUhgTT7romnV7iGW6W1gbGdeezqdbJCzShkCsYNzyyNcc                                                              |\n",
    "| 239            | EF       | Testnet Private key (WIF, compressed pubkey)   | c                 | cNJFgo1driFnPcBdBX8BrJrpxchBWXwXCvNH5SoSkdcF6JXXwHMm                                                             |\n",
    "| 4 53 135 207   | 043587CF | Testnet BIP32 pubkey                           | tpub              | tpubD6NzVbkrYhZ4WLczPJWReQycCJdd6YVWXubbVUFnJ5KgU5MDQrD9 98ZJLNGbhd2pq7ZtDiPYTfJ7iBenLVQpYgSQqPjUsQeJXH8VQ8xA67D |\n",
    "| 4 53 131 148   | 04358394 | Testnet BIP32 private key                      | tprv              | tprv8ZgxMBicQKsPcsbCVeqqF1KVdH7gwDJbxbzpCxDUsoXHdb6SnTPY xdwSAKDC6KKJzv7khnNWRAJQsRA8BBQyiSfYnRt6zuu4vZQGKjeW4YF |"
   ]
  },
  {
   "cell_type": "code",
   "execution_count": 66,
   "metadata": {},
   "outputs": [],
   "source": [
    "hashed_public_key = bytes.fromhex(\"6f\") + ripemd160.digest()"
   ]
  },
  {
   "cell_type": "markdown",
   "metadata": {},
   "source": [
    "### Step five. Create the checksum\n",
    "\n",
    "The check sum is used to make sure that the address is indeed complete, The fact that the check sum contains the network id bytes is also important to prevent sending transactions to the wrong network."
   ]
  },
  {
   "cell_type": "code",
   "execution_count": 67,
   "metadata": {},
   "outputs": [],
   "source": [
    "sha256_2 = hashlib.new(\"sha256\")\n",
    "sha256_3 = hashlib.new(\"sha256\")\n",
    "\n",
    "sha256_2.update(hashed_public_key)\n",
    "sha256_3.update(sha256_2.digest())\n",
    "\n",
    "checksum = sha256_3.digest()[:4]"
   ]
  },
  {
   "cell_type": "markdown",
   "metadata": {},
   "source": [
    "### Step five. Append the hashed public key to the checksum and convert to base 58\n",
    "Base 58 is just another way to represent bytes. The original idea was to create a relativly short address in a format that is somewhat more human readable. The charectar list was also minimized to eliminate potential confusion (1, l, i, I, 0, o).\n",
    "\n",
    "| Value | Character | Value | Character | Value | Character | Value | Character |\n",
    "|-------|-----------|-------|-----------|-------|-----------|-------|-----------|\n",
    "| 0     | 1         | 1     | 2         | 2     | 3         | 3     | 4         |\n",
    "| 4     | 5         | 5     | 6         | 6     | 7         | 7     | 8         |\n",
    "| 8     | 9         | 9     | A         | 10    | B         | 11    | C         |\n",
    "| 12    | D         | 13    | E         | 14    | F         | 15    | G         |\n",
    "| 16    | H         | 17    | J         | 18    | K         | 19    | L         |\n",
    "| 20    | M         | 21    | N         | 22    | P         | 23    | Q         |\n",
    "| 24    | R         | 25    | S         | 26    | T         | 27    | U         |\n",
    "| 28    | V         | 29    | W         | 30    | X         | 31    | Y         |\n",
    "| 32    | Z         | 33    | a         | 34    | b         | 35    | c         |\n",
    "| 36    | d         | 37    | e         | 38    | f         | 39    | g         |\n",
    "| 40    | h         | 41    | i         | 42    | j         | 43    | k         |\n",
    "| 44    | m         | 45    | n         | 46    | o         | 47    | p         |\n",
    "| 48    | q         | 49    | r         | 50    | s         | 51    | t         |\n",
    "| 52    | u         | 53    | v         | 54    | w         | 55    | x         |\n",
    "| 56    | y         | 57    | z         |       |           |       |           |\n",
    "\n",
    "\n",
    "\n",
    "?Is Bitcoin address case sensitive?"
   ]
  },
  {
   "cell_type": "code",
   "execution_count": 68,
   "metadata": {},
   "outputs": [
    {
     "name": "stdout",
     "output_type": "stream",
     "text": [
      "b'mq2PhMj3mLg9LirMEgeyRgcUQmo2kNfoek'\n"
     ]
    }
   ],
   "source": [
    "import base58\n",
    "\n",
    "FINALE_BTC_ADDRESS = base58.b58encode(hashed_public_key + checksum)\n",
    "print (FINALE_BTC_ADDRESS)"
   ]
  },
  {
   "cell_type": "markdown",
   "metadata": {},
   "source": [
    "### Exercise:\n",
    "\n",
    "Generate a testnet address (Change the network byte).\n",
    "Keep the private key used to generate that address! you'll need it!\n",
    "\n",
    "Send your testnet address to shlomi.zeltsinger@gmail.com"
   ]
  },
  {
   "cell_type": "markdown",
   "metadata": {},
   "source": [
    "### Exercise:\n",
    "Write the P2SH address for the script we did in class: 767695950887."
   ]
  },
  {
   "cell_type": "code",
   "execution_count": 69,
   "metadata": {},
   "outputs": [
    {
     "name": "stdout",
     "output_type": "stream",
     "text": [
      "b'37HNGJbS3eqE4uHPxy3Fz6SEWh9D1vZmxx'\n"
     ]
    }
   ],
   "source": [
    "# Example for script\n",
    "script = bytes.fromhex(\"5176937693769376936087\")\n",
    "\n",
    "import hashlib\n",
    "\n",
    "sha256_1 = hashlib.new(\"sha256\")\n",
    "sha256_1.update(script)\n",
    "\n",
    "ripemd160 = hashlib.new(\"ripemd160\")\n",
    "ripemd160.update(sha256_1.digest())\n",
    "\n",
    "hashed_public_key = bytes.fromhex(\"05\") + ripemd160.digest()\n",
    "\n",
    "sha256_2 = hashlib.new(\"sha256\")\n",
    "sha256_3 = hashlib.new(\"sha256\")\n",
    "\n",
    "sha256_2.update(hashed_public_key)\n",
    "sha256_3.update(sha256_2.digest())\n",
    "\n",
    "checksum = sha256_3.digest()[:4]\n",
    "\n",
    "import base58\n",
    "\n",
    "FINALE_BTC_ADDRESS = base58.b58encode(hashed_public_key + checksum)\n",
    "print (FINALE_BTC_ADDRESS)"
   ]
  },
  {
   "cell_type": "markdown",
   "metadata": {},
   "source": [
    "## Resources\n",
    "\n",
    "https://en.bitcoin.it/wiki/Address\n",
    "\n",
    "https://en.bitcoin.it/wiki/Technical_background_of_version_1_Bitcoin_addresses\n",
    "\n",
    "https://bitcoin-script-debugger.visvirial.com/?input=OP_1%20OP_DUP%20OP_ADD%20OP_DUP%20OP_ADD%20OP_DUP%20OP_ADD%20OP_DUP%20OP_ADD%20OP_16%20OP_EQUAL"
   ]
  },
  {
   "cell_type": "code",
   "execution_count": null,
   "metadata": {},
   "outputs": [],
   "source": []
  }
 ],
 "metadata": {
  "kernelspec": {
   "display_name": "Python 3",
   "language": "python",
   "name": "python3"
  },
  "language_info": {
   "codemirror_mode": {
    "name": "ipython",
    "version": 3
   },
   "file_extension": ".py",
   "mimetype": "text/x-python",
   "name": "python",
   "nbconvert_exporter": "python",
   "pygments_lexer": "ipython3",
   "version": "3.6.2"
  }
 },
 "nbformat": 4,
 "nbformat_minor": 2
}
